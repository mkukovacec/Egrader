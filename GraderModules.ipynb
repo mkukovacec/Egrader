{
 "cells": [
  {
   "cell_type": "markdown",
   "metadata": {},
   "source": [
    "# Modules of essay grader"
   ]
  },
  {
   "cell_type": "code",
   "execution_count": 2,
   "metadata": {},
   "outputs": [],
   "source": [
    "import os\n",
    "import math\n",
    "import numpy as np\n",
    "import pandas as pd\n",
    "import sys\n",
    "import matplotlib.pyplot as plt\n",
    "import pickle\n",
    "\n",
    "from util import transform, preprocess_text"
   ]
  },
  {
   "cell_type": "markdown",
   "metadata": {},
   "source": [
    "### Reading the data"
   ]
  },
  {
   "cell_type": "code",
   "execution_count": 3,
   "metadata": {},
   "outputs": [],
   "source": [
    "train_data = pd.read_table(\"data/training_set.tsv\")\n",
    "rating_columns = train_data.columns.values[3:].tolist()\n",
    "train_data['avg_score']=train_data[rating_columns].mean(axis=1)"
   ]
  },
  {
   "cell_type": "markdown",
   "metadata": {},
   "source": [
    "## Creating a model for each grader module"
   ]
  },
  {
   "cell_type": "code",
   "execution_count": 1,
   "metadata": {},
   "outputs": [],
   "source": [
    "import sklearn.feature_extraction.text as te\n",
    "import sklearn.model_selection as msel\n",
    "import nltk\n",
    "from sklearn import preprocessing\n",
    "from sklearn import metrics\n",
    "from sklearn import linear_model\n",
    "\n",
    "min_max_scaler = preprocessing.MinMaxScaler()\n",
    "\n",
    "#TODO parameter tuning for ALL\n",
    "\n",
    "x = train_data.essay\n",
    "y = train_data.avg_score\n",
    "y_scaled = min_max_scaler.fit_transform(y.values.reshape(-1,1))"
   ]
  },
  {
   "cell_type": "markdown",
   "metadata": {},
   "source": [
    "### Organization module"
   ]
  },
  {
   "cell_type": "code",
   "execution_count": null,
   "metadata": {},
   "outputs": [],
   "source": [
    "x_organization = transform(x, \"organization\")\n",
    "y_organization = y_scaled\n",
    "\n",
    "clf_organization = linear_model.LinearRegression()\n",
    "clf_organization.fit(x_organization, y_organization)\n",
    "\n",
    "with open('models/organization_module', 'wb') as f:\n",
    "    pickle.dump(clf_organization, f)"
   ]
  },
  {
   "cell_type": "markdown",
   "metadata": {},
   "source": [
    "### Content module"
   ]
  },
  {
   "cell_type": "code",
   "execution_count": null,
   "metadata": {},
   "outputs": [],
   "source": [
    "x_content = transform(x, \"content\")\n",
    "y_content = y_scaled\n",
    "\n",
    "clf_content = linear_model.LinearRegression()\n",
    "clf_content.fit(x_content, y_content)\n",
    "\n",
    "with open('models/content_module', 'wb') as f:\n",
    "    pickle.dump(clf_content, f)"
   ]
  },
  {
   "cell_type": "markdown",
   "metadata": {},
   "source": [
    "### Development module"
   ]
  },
  {
   "cell_type": "code",
   "execution_count": null,
   "metadata": {},
   "outputs": [],
   "source": [
    "x_development = transform(x, \"development\")\n",
    "y_development = y_scaled\n",
    "\n",
    "clf_development = linear_model.LinearRegression()\n",
    "clf_development.fit(x_development, y_development)\n",
    "\n",
    "with open('models/development_module', 'wb') as f:\n",
    "    pickle.dump(clf_development, f)"
   ]
  },
  {
   "cell_type": "markdown",
   "metadata": {},
   "source": [
    "### Grammar module"
   ]
  },
  {
   "cell_type": "code",
   "execution_count": null,
   "metadata": {},
   "outputs": [],
   "source": [
    "x_grammar = transform(x, \"grammar\")\n",
    "y_grammar = y_scaled\n",
    "\n",
    "clf_grammar = linear_model.LinearRegression()\n",
    "clf_grammar.fit(x_grammar, y_grammar)\n",
    "\n",
    "with open('models/grammar_module', 'wb') as f:\n",
    "    pickle.dump(clf_grammar, f)"
   ]
  },
  {
   "cell_type": "markdown",
   "metadata": {},
   "source": [
    "### Style module"
   ]
  },
  {
   "cell_type": "code",
   "execution_count": null,
   "metadata": {},
   "outputs": [],
   "source": [
    "x_style = transform(x, \"style\")\n",
    "y_style = y_scaled\n",
    "\n",
    "clf_style = linear_model.LinearRegression()\n",
    "clf_style.fit(x_style, y_style)\n",
    "\n",
    "with open('models/style_module', 'wb') as f:\n",
    "    pickle.dump(clf_style, f)"
   ]
  }
 ],
 "metadata": {
  "kernelspec": {
   "display_name": "Python 3",
   "language": "python",
   "name": "python3"
  },
  "language_info": {
   "codemirror_mode": {
    "name": "ipython",
    "version": 3
   },
   "file_extension": ".py",
   "mimetype": "text/x-python",
   "name": "python",
   "nbconvert_exporter": "python",
   "pygments_lexer": "ipython3",
   "version": "3.5.2"
  }
 },
 "nbformat": 4,
 "nbformat_minor": 2
}
