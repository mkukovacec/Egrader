{
 "cells": [
  {
   "cell_type": "markdown",
   "metadata": {},
   "source": [
    "# Modules of essay grader"
   ]
  },
  {
   "cell_type": "code",
   "execution_count": 1,
   "metadata": {},
   "outputs": [],
   "source": [
    "import os\n",
    "import math\n",
    "import numpy as np\n",
    "import pandas as pd\n",
    "import sys\n",
    "import matplotlib.pyplot as plt\n",
    "import pickle\n",
    "\n",
    "from util import get_trained_model, preprocess_text"
   ]
  },
  {
   "cell_type": "markdown",
   "metadata": {},
   "source": [
    "### Reading the data"
   ]
  },
  {
   "cell_type": "code",
   "execution_count": 2,
   "metadata": {},
   "outputs": [],
   "source": [
    "train_data = pd.read_table(\"data/training_set.tsv\")\n",
    "rating_columns = train_data.columns.values[3:].tolist()\n",
    "train_data['avg_score']=train_data[rating_columns].mean(axis=1)"
   ]
  },
  {
   "cell_type": "markdown",
   "metadata": {},
   "source": [
    "## Creating a model for each grader module"
   ]
  },
  {
   "cell_type": "code",
   "execution_count": 3,
   "metadata": {},
   "outputs": [],
   "source": [
    "import sklearn.feature_extraction.text as te\n",
    "import sklearn.model_selection as msel\n",
    "import nltk\n",
    "from sklearn import preprocessing\n",
    "from sklearn import metrics\n",
    "from sklearn import linear_model\n",
    "\n",
    "min_max_scaler = preprocessing.MinMaxScaler()\n",
    "\n",
    "x = train_data.essay\n",
    "y = train_data.avg_score\n",
    "y_scaled = min_max_scaler.fit_transform(y.values.reshape(-1,1))"
   ]
  },
  {
   "cell_type": "markdown",
   "metadata": {},
   "source": [
    "### Content module"
   ]
  },
  {
   "cell_type": "code",
   "execution_count": 4,
   "metadata": {},
   "outputs": [
    {
     "name": "stdout",
     "output_type": "stream",
     "text": [
      "MODULE: content\n",
      "---Transforming module data\n",
      "[[0.175  0.2115 0.1415 ... 0.4175 0.288  0.237 ]]\n",
      "[[0.19170984 0.23060345 0.24920128 ... 0.20361083 0.2350365  0.25878004]]\n",
      "[[0.00291545 0.00236967 0.00353357 ... 0.00118343 0.0017094  0.00210526]]\n",
      "---Tuning parameters\n",
      "---best parameters: {'fit_intercept': False, 'normalize': True, 'copy_X': True}\n",
      "---Training module on whole dataset\n",
      "---Dumping module\n",
      "Model dumped into: models/content_module\n",
      "---------------------------------\n"
     ]
    }
   ],
   "source": [
    "get_trained_model(x, y_scaled, \"content\")"
   ]
  },
  {
   "cell_type": "markdown",
   "metadata": {},
   "source": [
    "### Grammar module"
   ]
  },
  {
   "cell_type": "code",
   "execution_count": 5,
   "metadata": {},
   "outputs": [
    {
     "name": "stdout",
     "output_type": "stream",
     "text": [
      "MODULE: grammar\n",
      "---Transforming module data\n",
      "[[0.67930029 0.6943128  0.69611307 ... 0.63076923 0.69401709 0.75368421]]\n",
      "---Tuning parameters\n",
      "---best parameters: {'fit_intercept': False, 'normalize': True, 'copy_X': True}\n",
      "---Training module on whole dataset\n",
      "---Dumping module\n",
      "Model dumped into: models/grammar_module\n",
      "---------------------------------\n"
     ]
    }
   ],
   "source": [
    "get_trained_model(x, y_scaled, \"grammar\")"
   ]
  }
 ],
 "metadata": {
  "kernelspec": {
   "display_name": "Python 3",
   "language": "python",
   "name": "python3"
  },
  "language_info": {
   "codemirror_mode": {
    "name": "ipython",
    "version": 3
   },
   "file_extension": ".py",
   "mimetype": "text/x-python",
   "name": "python",
   "nbconvert_exporter": "python",
   "pygments_lexer": "ipython3",
   "version": "3.5.2"
  }
 },
 "nbformat": 4,
 "nbformat_minor": 2
}
