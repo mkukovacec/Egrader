{
 "cells": [
  {
   "cell_type": "markdown",
   "metadata": {},
   "source": [
    "  # Data Resolver\n",
    "  \n",
    "  This notebook is used to normalize dataset provided from Kaggle."
   ]
  },
  {
   "cell_type": "code",
   "execution_count": 77,
   "metadata": {},
   "outputs": [],
   "source": [
    "import os\n",
    "import math\n",
    "import numpy as np\n",
    "import pandas as pd\n",
    "import sys\n",
    "import matplotlib.pyplot as plt"
   ]
  },
  {
   "cell_type": "code",
   "execution_count": 78,
   "metadata": {},
   "outputs": [],
   "source": [
    "train_data = pd.read_table(\"data/training_set.tsv\")"
   ]
  },
  {
   "cell_type": "markdown",
   "metadata": {},
   "source": [
    "### Essay set 1"
   ]
  },
  {
   "cell_type": "code",
   "execution_count": 79,
   "metadata": {},
   "outputs": [
    {
     "name": "stderr",
     "output_type": "stream",
     "text": [
      "/home/marin/.local/lib/python3.5/site-packages/ipykernel_launcher.py:4: SettingWithCopyWarning: \n",
      "A value is trying to be set on a copy of a slice from a DataFrame.\n",
      "Try using .loc[row_indexer,col_indexer] = value instead\n",
      "\n",
      "See the caveats in the documentation: http://pandas.pydata.org/pandas-docs/stable/indexing.html#indexing-view-versus-copy\n",
      "  after removing the cwd from sys.path.\n",
      "/home/marin/.local/lib/python3.5/site-packages/ipykernel_launcher.py:5: SettingWithCopyWarning: \n",
      "A value is trying to be set on a copy of a slice from a DataFrame.\n",
      "Try using .loc[row_indexer,col_indexer] = value instead\n",
      "\n",
      "See the caveats in the documentation: http://pandas.pydata.org/pandas-docs/stable/indexing.html#indexing-view-versus-copy\n",
      "  \"\"\"\n"
     ]
    },
    {
     "data": {
      "text/plain": [
       "essay_id                                                       1787\n",
       "essay_set                                                         1\n",
       "essay             would you rather read six books to get that on...\n",
       "rater1_domain1                                                    6\n",
       "rater2_domain1                                                    6\n",
       "rater3_domain1                                                 None\n",
       "domain1_score                                                    12\n",
       "rater1_domain2                                                 None\n",
       "rater2_domain2                                                 None\n",
       "domain2_score                                                  None\n",
       "rater1_trait1                                                  None\n",
       "rater1_trait2                                                  None\n",
       "rater1_trait3                                                  None\n",
       "rater1_trait4                                                  None\n",
       "rater1_trait5                                                  None\n",
       "rater1_trait6                                                  None\n",
       "rater2_trait1                                                  None\n",
       "rater2_trait2                                                  None\n",
       "rater2_trait3                                                  None\n",
       "rater2_trait4                                                  None\n",
       "rater2_trait5                                                  None\n",
       "rater2_trait6                                                  None\n",
       "rater3_trait1                                                  None\n",
       "rater3_trait2                                                  None\n",
       "rater3_trait3                                                  None\n",
       "rater3_trait4                                                  None\n",
       "rater3_trait5                                                  None\n",
       "rater3_trait6                                                  None\n",
       "avg_score                                                         1\n",
       "dtype: object"
      ]
     },
     "execution_count": 79,
     "metadata": {},
     "output_type": "execute_result"
    },
    {
     "data": {
      "image/png": "[encoded data removed]",
      "text/plain": [
       "<Figure size 864x360 with 1 Axes>"
      ]
     },
     "metadata": {},
     "output_type": "display_data"
    }
   ],
   "source": [
    "set1 = train_data[train_data['essay_set'] == 1]\n",
    "\n",
    "rating_columns = set1.columns.values[3:].tolist()\n",
    "set1['avg_score']=set1[rating_columns].mean(axis=1)\n",
    "set1['avg_score']=((set1[rating_columns]-set1[rating_columns].min())/(set1[rating_columns].max()-set1[rating_columns].min())).mean(axis=1)\n",
    "set1[['essay_id', 'essay', 'avg_score']]\n",
    "set1.hist(column='avg_score', bins=24, ax= plt.figure(figsize = (12,5)).gca())\n",
    "set1.max()"
   ]
  },
  {
   "cell_type": "markdown",
   "metadata": {},
   "source": [
    "### Essay set 2"
   ]
  },
  {
   "cell_type": "code",
   "execution_count": 80,
   "metadata": {},
   "outputs": [
    {
     "name": "stderr",
     "output_type": "stream",
     "text": [
      "/home/marin/.local/lib/python3.5/site-packages/ipykernel_launcher.py:4: SettingWithCopyWarning: \n",
      "A value is trying to be set on a copy of a slice from a DataFrame.\n",
      "Try using .loc[row_indexer,col_indexer] = value instead\n",
      "\n",
      "See the caveats in the documentation: http://pandas.pydata.org/pandas-docs/stable/indexing.html#indexing-view-versus-copy\n",
      "  after removing the cwd from sys.path.\n",
      "/home/marin/.local/lib/python3.5/site-packages/ipykernel_launcher.py:5: SettingWithCopyWarning: \n",
      "A value is trying to be set on a copy of a slice from a DataFrame.\n",
      "Try using .loc[row_indexer,col_indexer] = value instead\n",
      "\n",
      "See the caveats in the documentation: http://pandas.pydata.org/pandas-docs/stable/indexing.html#indexing-view-versus-copy\n",
      "  \"\"\"\n"
     ]
    },
    {
     "data": {
      "text/plain": [
       "essay_id                                                       4777\n",
       "essay_set                                                         2\n",
       "essay             yes i thinck they should take efence books off...\n",
       "rater1_domain1                                                    6\n",
       "rater2_domain1                                                    6\n",
       "rater3_domain1                                                 None\n",
       "domain1_score                                                     6\n",
       "rater1_domain2                                                    4\n",
       "rater2_domain2                                                    4\n",
       "domain2_score                                                     4\n",
       "rater1_trait1                                                  None\n",
       "rater1_trait2                                                  None\n",
       "rater1_trait3                                                  None\n",
       "rater1_trait4                                                  None\n",
       "rater1_trait5                                                  None\n",
       "rater1_trait6                                                  None\n",
       "rater2_trait1                                                  None\n",
       "rater2_trait2                                                  None\n",
       "rater2_trait3                                                  None\n",
       "rater2_trait4                                                  None\n",
       "rater2_trait5                                                  None\n",
       "rater2_trait6                                                  None\n",
       "rater3_trait1                                                  None\n",
       "rater3_trait2                                                  None\n",
       "rater3_trait3                                                  None\n",
       "rater3_trait4                                                  None\n",
       "rater3_trait5                                                  None\n",
       "rater3_trait6                                                  None\n",
       "avg_score                                                         1\n",
       "dtype: object"
      ]
     },
     "execution_count": 80,
     "metadata": {},
     "output_type": "execute_result"
    },
    {
     "data": {
      "image/png": "[encoded data removed]",
      "text/plain": [
       "<Figure size 864x360 with 1 Axes>"
      ]
     },
     "metadata": {},
     "output_type": "display_data"
    }
   ],
   "source": [
    "set2 = train_data[train_data['essay_set'] == 2]\n",
    "\n",
    "rating_columns = set2.columns.values[3:].tolist()\n",
    "set2['avg_score']=set2[rating_columns].mean(axis=1)\n",
    "set2['avg_score']=((set2[rating_columns]-set2[rating_columns].min())/(set2[rating_columns].max()-set2[rating_columns].min())).mean(axis=1)\n",
    "set2[['essay_id', 'essay', 'avg_score']]\n",
    "set2.hist(column='avg_score', bins=24, ax= plt.figure(figsize = (12,5)).gca())\n",
    "set2.max()"
   ]
  },
  {
   "cell_type": "markdown",
   "metadata": {},
   "source": [
    "### Essay set 3"
   ]
  },
  {
   "cell_type": "code",
   "execution_count": 81,
   "metadata": {},
   "outputs": [
    {
     "name": "stderr",
     "output_type": "stream",
     "text": [
      "/home/marin/.local/lib/python3.5/site-packages/ipykernel_launcher.py:4: SettingWithCopyWarning: \n",
      "A value is trying to be set on a copy of a slice from a DataFrame.\n",
      "Try using .loc[row_indexer,col_indexer] = value instead\n",
      "\n",
      "See the caveats in the documentation: http://pandas.pydata.org/pandas-docs/stable/indexing.html#indexing-view-versus-copy\n",
      "  after removing the cwd from sys.path.\n",
      "/home/marin/.local/lib/python3.5/site-packages/ipykernel_launcher.py:5: SettingWithCopyWarning: \n",
      "A value is trying to be set on a copy of a slice from a DataFrame.\n",
      "Try using .loc[row_indexer,col_indexer] = value instead\n",
      "\n",
      "See the caveats in the documentation: http://pandas.pydata.org/pandas-docs/stable/indexing.html#indexing-view-versus-copy\n",
      "  \"\"\"\n"
     ]
    },
    {
     "data": {
      "text/plain": [
       "essay_id                                                       7708\n",
       "essay_set                                                         3\n",
       "essay             this story is set in the hot in the hot desert...\n",
       "rater1_domain1                                                    3\n",
       "rater2_domain1                                                    3\n",
       "rater3_domain1                                                 None\n",
       "domain1_score                                                     3\n",
       "rater1_domain2                                                 None\n",
       "rater2_domain2                                                 None\n",
       "domain2_score                                                  None\n",
       "rater1_trait1                                                  None\n",
       "rater1_trait2                                                  None\n",
       "rater1_trait3                                                  None\n",
       "rater1_trait4                                                  None\n",
       "rater1_trait5                                                  None\n",
       "rater1_trait6                                                  None\n",
       "rater2_trait1                                                  None\n",
       "rater2_trait2                                                  None\n",
       "rater2_trait3                                                  None\n",
       "rater2_trait4                                                  None\n",
       "rater2_trait5                                                  None\n",
       "rater2_trait6                                                  None\n",
       "rater3_trait1                                                  None\n",
       "rater3_trait2                                                  None\n",
       "rater3_trait3                                                  None\n",
       "rater3_trait4                                                  None\n",
       "rater3_trait5                                                  None\n",
       "rater3_trait6                                                  None\n",
       "avg_score                                                         1\n",
       "dtype: object"
      ]
     },
     "execution_count": 81,
     "metadata": {},
     "output_type": "execute_result"
    },
    {
     "data": {
      "image/png": "[encoded data removed]",
      "text/plain": [
       "<Figure size 864x360 with 1 Axes>"
      ]
     },
     "metadata": {},
     "output_type": "display_data"
    }
   ],
   "source": [
    "set3 = train_data[train_data['essay_set'] == 3]\n",
    "\n",
    "rating_columns = set3.columns.values[3:].tolist()\n",
    "set3['avg_score']=set3[rating_columns].mean(axis=1)\n",
    "set3['avg_score']=((set3[rating_columns]-set3[rating_columns].min())/(set3[rating_columns].max()-set3[rating_columns].min())).mean(axis=1)\n",
    "set3[['essay_id', 'essay', 'avg_score']]\n",
    "set3.hist(column='avg_score', bins=24, ax= plt.figure(figsize = (12,5)).gca())\n",
    "set3.max()"
   ]
  },
  {
   "cell_type": "markdown",
   "metadata": {},
   "source": [
    "### Essay set 4"
   ]
  },
  {
   "cell_type": "code",
   "execution_count": 82,
   "metadata": {},
   "outputs": [
    {
     "name": "stderr",
     "output_type": "stream",
     "text": [
      "/home/marin/.local/lib/python3.5/site-packages/ipykernel_launcher.py:4: SettingWithCopyWarning: \n",
      "A value is trying to be set on a copy of a slice from a DataFrame.\n",
      "Try using .loc[row_indexer,col_indexer] = value instead\n",
      "\n",
      "See the caveats in the documentation: http://pandas.pydata.org/pandas-docs/stable/indexing.html#indexing-view-versus-copy\n",
      "  after removing the cwd from sys.path.\n",
      "/home/marin/.local/lib/python3.5/site-packages/ipykernel_launcher.py:5: SettingWithCopyWarning: \n",
      "A value is trying to be set on a copy of a slice from a DataFrame.\n",
      "Try using .loc[row_indexer,col_indexer] = value instead\n",
      "\n",
      "See the caveats in the documentation: http://pandas.pydata.org/pandas-docs/stable/indexing.html#indexing-view-versus-copy\n",
      "  \"\"\"\n"
     ]
    },
    {
     "data": {
      "text/plain": [
       "essay_id                                                      10642\n",
       "essay_set                                                         4\n",
       "essay             when they come back, Saeng vowed silently to h...\n",
       "rater1_domain1                                                    3\n",
       "rater2_domain1                                                    3\n",
       "rater3_domain1                                                 None\n",
       "domain1_score                                                     3\n",
       "rater1_domain2                                                 None\n",
       "rater2_domain2                                                 None\n",
       "domain2_score                                                  None\n",
       "rater1_trait1                                                  None\n",
       "rater1_trait2                                                  None\n",
       "rater1_trait3                                                  None\n",
       "rater1_trait4                                                  None\n",
       "rater1_trait5                                                  None\n",
       "rater1_trait6                                                  None\n",
       "rater2_trait1                                                  None\n",
       "rater2_trait2                                                  None\n",
       "rater2_trait3                                                  None\n",
       "rater2_trait4                                                  None\n",
       "rater2_trait5                                                  None\n",
       "rater2_trait6                                                  None\n",
       "rater3_trait1                                                  None\n",
       "rater3_trait2                                                  None\n",
       "rater3_trait3                                                  None\n",
       "rater3_trait4                                                  None\n",
       "rater3_trait5                                                  None\n",
       "rater3_trait6                                                  None\n",
       "avg_score                                                         1\n",
       "dtype: object"
      ]
     },
     "execution_count": 82,
     "metadata": {},
     "output_type": "execute_result"
    },
    {
     "data": {
      "image/png": "[encoded data removed]",
      "text/plain": [
       "<Figure size 864x360 with 1 Axes>"
      ]
     },
     "metadata": {},
     "output_type": "display_data"
    }
   ],
   "source": [
    "set4 = train_data[train_data['essay_set'] == 4]\n",
    "\n",
    "rating_columns = set4.columns.values[3:].tolist()\n",
    "set4['avg_score']=set4[rating_columns].mean(axis=1)\n",
    "set4['avg_score']=((set4[rating_columns]-set4[rating_columns].min())/(set4[rating_columns].max()-set4[rating_columns].min())).mean(axis=1)\n",
    "set4[['essay_id', 'essay', 'avg_score']]\n",
    "set4.hist(column='avg_score', bins=24, ax= plt.figure(figsize = (12,5)).gca())\n",
    "set4.max()"
   ]
  },
  {
   "cell_type": "markdown",
   "metadata": {},
   "source": [
    "### Essay set 5"
   ]
  },
  {
   "cell_type": "code",
   "execution_count": 83,
   "metadata": {},
   "outputs": [
    {
     "name": "stderr",
     "output_type": "stream",
     "text": [
      "/home/marin/.local/lib/python3.5/site-packages/ipykernel_launcher.py:4: SettingWithCopyWarning: \n",
      "A value is trying to be set on a copy of a slice from a DataFrame.\n",
      "Try using .loc[row_indexer,col_indexer] = value instead\n",
      "\n",
      "See the caveats in the documentation: http://pandas.pydata.org/pandas-docs/stable/indexing.html#indexing-view-versus-copy\n",
      "  after removing the cwd from sys.path.\n",
      "/home/marin/.local/lib/python3.5/site-packages/ipykernel_launcher.py:5: SettingWithCopyWarning: \n",
      "A value is trying to be set on a copy of a slice from a DataFrame.\n",
      "Try using .loc[row_indexer,col_indexer] = value instead\n",
      "\n",
      "See the caveats in the documentation: http://pandas.pydata.org/pandas-docs/stable/indexing.html#indexing-view-versus-copy\n",
      "  \"\"\"\n"
     ]
    },
    {
     "data": {
      "text/plain": [
       "essay_id                                                      13631\n",
       "essay_set                                                         5\n",
       "essay             within its walls, my young parents in the immi...\n",
       "rater1_domain1                                                    4\n",
       "rater2_domain1                                                    4\n",
       "rater3_domain1                                                 None\n",
       "domain1_score                                                     4\n",
       "rater1_domain2                                                 None\n",
       "rater2_domain2                                                 None\n",
       "domain2_score                                                  None\n",
       "rater1_trait1                                                  None\n",
       "rater1_trait2                                                  None\n",
       "rater1_trait3                                                  None\n",
       "rater1_trait4                                                  None\n",
       "rater1_trait5                                                  None\n",
       "rater1_trait6                                                  None\n",
       "rater2_trait1                                                  None\n",
       "rater2_trait2                                                  None\n",
       "rater2_trait3                                                  None\n",
       "rater2_trait4                                                  None\n",
       "rater2_trait5                                                  None\n",
       "rater2_trait6                                                  None\n",
       "rater3_trait1                                                  None\n",
       "rater3_trait2                                                  None\n",
       "rater3_trait3                                                  None\n",
       "rater3_trait4                                                  None\n",
       "rater3_trait5                                                  None\n",
       "rater3_trait6                                                  None\n",
       "avg_score                                                         1\n",
       "dtype: object"
      ]
     },
     "execution_count": 83,
     "metadata": {},
     "output_type": "execute_result"
    },
    {
     "data": {
      "image/png": "[encoded data removed]",
      "text/plain": [
       "<Figure size 864x360 with 1 Axes>"
      ]
     },
     "metadata": {},
     "output_type": "display_data"
    }
   ],
   "source": [
    "set5 = train_data[train_data['essay_set'] == 5]\n",
    "\n",
    "rating_columns = set5.columns.values[3:].tolist()\n",
    "set5['avg_score']=set5[rating_columns].mean(axis=1)\n",
    "set5['avg_score']=((set5[rating_columns]-set5[rating_columns].min())/(set5[rating_columns].max()-set5[rating_columns].min())).mean(axis=1)\n",
    "set5[['essay_id', 'essay', 'avg_score']]\n",
    "set5.hist(column='avg_score', bins=24, ax= plt.figure(figsize = (12,5)).gca())\n",
    "set5.max()"
   ]
  },
  {
   "cell_type": "markdown",
   "metadata": {},
   "source": [
    "### Essay set 6"
   ]
  },
  {
   "cell_type": "code",
   "execution_count": 84,
   "metadata": {},
   "outputs": [
    {
     "name": "stderr",
     "output_type": "stream",
     "text": [
      "/home/marin/.local/lib/python3.5/site-packages/ipykernel_launcher.py:4: SettingWithCopyWarning: \n",
      "A value is trying to be set on a copy of a slice from a DataFrame.\n",
      "Try using .loc[row_indexer,col_indexer] = value instead\n",
      "\n",
      "See the caveats in the documentation: http://pandas.pydata.org/pandas-docs/stable/indexing.html#indexing-view-versus-copy\n",
      "  after removing the cwd from sys.path.\n",
      "/home/marin/.local/lib/python3.5/site-packages/ipykernel_launcher.py:5: SettingWithCopyWarning: \n",
      "A value is trying to be set on a copy of a slice from a DataFrame.\n",
      "Try using .loc[row_indexer,col_indexer] = value instead\n",
      "\n",
      "See the caveats in the documentation: http://pandas.pydata.org/pandas-docs/stable/indexing.html#indexing-view-versus-copy\n",
      "  \"\"\"\n"
     ]
    },
    {
     "data": {
      "text/plain": [
       "essay_id                                                      16633\n",
       "essay_set                                                         6\n",
       "essay             work face many problems with building docks fo...\n",
       "rater1_domain1                                                    4\n",
       "rater2_domain1                                                    4\n",
       "rater3_domain1                                                 None\n",
       "domain1_score                                                     4\n",
       "rater1_domain2                                                 None\n",
       "rater2_domain2                                                 None\n",
       "domain2_score                                                  None\n",
       "rater1_trait1                                                  None\n",
       "rater1_trait2                                                  None\n",
       "rater1_trait3                                                  None\n",
       "rater1_trait4                                                  None\n",
       "rater1_trait5                                                  None\n",
       "rater1_trait6                                                  None\n",
       "rater2_trait1                                                  None\n",
       "rater2_trait2                                                  None\n",
       "rater2_trait3                                                  None\n",
       "rater2_trait4                                                  None\n",
       "rater2_trait5                                                  None\n",
       "rater2_trait6                                                  None\n",
       "rater3_trait1                                                  None\n",
       "rater3_trait2                                                  None\n",
       "rater3_trait3                                                  None\n",
       "rater3_trait4                                                  None\n",
       "rater3_trait5                                                  None\n",
       "rater3_trait6                                                  None\n",
       "avg_score                                                         1\n",
       "dtype: object"
      ]
     },
     "execution_count": 84,
     "metadata": {},
     "output_type": "execute_result"
    },
    {
     "data": {
      "image/png": "[encoded data removed]",
      "text/plain": [
       "<Figure size 864x360 with 1 Axes>"
      ]
     },
     "metadata": {},
     "output_type": "display_data"
    }
   ],
   "source": [
    "set6 = train_data[train_data['essay_set'] == 6]\n",
    "\n",
    "rating_columns = set6.columns.values[3:].tolist()\n",
    "set6['avg_score']=set6[rating_columns].mean(axis=1)\n",
    "set6['avg_score']=((set6[rating_columns]-set6[rating_columns].min())/(set6[rating_columns].max()-set6[rating_columns].min())).mean(axis=1)\n",
    "set6[['essay_id', 'essay', 'avg_score']]\n",
    "set6.hist(column='avg_score', bins=24, ax= plt.figure(figsize = (12,5)).gca())\n",
    "set6.max()"
   ]
  },
  {
   "cell_type": "markdown",
   "metadata": {},
   "source": [
    "### Essay set 7"
   ]
  },
  {
   "cell_type": "code",
   "execution_count": 85,
   "metadata": {},
   "outputs": [
    {
     "name": "stderr",
     "output_type": "stream",
     "text": [
      "/home/marin/.local/lib/python3.5/site-packages/ipykernel_launcher.py:4: SettingWithCopyWarning: \n",
      "A value is trying to be set on a copy of a slice from a DataFrame.\n",
      "Try using .loc[row_indexer,col_indexer] = value instead\n",
      "\n",
      "See the caveats in the documentation: http://pandas.pydata.org/pandas-docs/stable/indexing.html#indexing-view-versus-copy\n",
      "  after removing the cwd from sys.path.\n",
      "/home/marin/.local/lib/python3.5/site-packages/ipykernel_launcher.py:5: SettingWithCopyWarning: \n",
      "A value is trying to be set on a copy of a slice from a DataFrame.\n",
      "Try using .loc[row_indexer,col_indexer] = value instead\n",
      "\n",
      "See the caveats in the documentation: http://pandas.pydata.org/pandas-docs/stable/indexing.html#indexing-view-versus-copy\n",
      "  \"\"\"\n"
     ]
    },
    {
     "data": {
      "text/plain": [
       "essay_id                                                      19563\n",
       "essay_set                                                         7\n",
       "essay             one time I was in  patient. We was an are way ...\n",
       "rater1_domain1                                                   12\n",
       "rater2_domain1                                                   12\n",
       "rater3_domain1                                                 None\n",
       "domain1_score                                                    24\n",
       "rater1_domain2                                                 None\n",
       "rater2_domain2                                                 None\n",
       "domain2_score                                                  None\n",
       "rater1_trait1                                                     3\n",
       "rater1_trait2                                                     3\n",
       "rater1_trait3                                                     3\n",
       "rater1_trait4                                                     3\n",
       "rater1_trait5                                                  None\n",
       "rater1_trait6                                                  None\n",
       "rater2_trait1                                                     3\n",
       "rater2_trait2                                                     3\n",
       "rater2_trait3                                                     3\n",
       "rater2_trait4                                                     3\n",
       "rater2_trait5                                                  None\n",
       "rater2_trait6                                                  None\n",
       "rater3_trait1                                                  None\n",
       "rater3_trait2                                                  None\n",
       "rater3_trait3                                                  None\n",
       "rater3_trait4                                                  None\n",
       "rater3_trait5                                                  None\n",
       "rater3_trait6                                                  None\n",
       "avg_score                                                         1\n",
       "dtype: object"
      ]
     },
     "execution_count": 85,
     "metadata": {},
     "output_type": "execute_result"
    },
    {
     "data": {
      "image/png": "[encoded data removed]",
      "text/plain": [
       "<Figure size 864x360 with 1 Axes>"
      ]
     },
     "metadata": {},
     "output_type": "display_data"
    }
   ],
   "source": [
    "set7 = train_data[train_data['essay_set'] == 7]\n",
    "\n",
    "rating_columns = set7.columns.values[3:].tolist()\n",
    "set7['avg_score']=set7[rating_columns].mean(axis=1)\n",
    "set7['avg_score']=((set7[rating_columns]-set7[rating_columns].min())/(set7[rating_columns].max()-set7[rating_columns].min())).mean(axis=1)\n",
    "set7[['essay_id', 'essay', 'avg_score']]\n",
    "set7.hist(column='avg_score', bins=24, ax= plt.figure(figsize = (12,5)).gca())\n",
    "set7.max()"
   ]
  },
  {
   "cell_type": "markdown",
   "metadata": {},
   "source": [
    "### Essay set 8"
   ]
  },
  {
   "cell_type": "code",
   "execution_count": 88,
   "metadata": {},
   "outputs": [
    {
     "name": "stderr",
     "output_type": "stream",
     "text": [
      "/home/marin/.local/lib/python3.5/site-packages/ipykernel_launcher.py:4: SettingWithCopyWarning: \n",
      "A value is trying to be set on a copy of a slice from a DataFrame.\n",
      "Try using .loc[row_indexer,col_indexer] = value instead\n",
      "\n",
      "See the caveats in the documentation: http://pandas.pydata.org/pandas-docs/stable/indexing.html#indexing-view-versus-copy\n",
      "  after removing the cwd from sys.path.\n",
      "/home/marin/.local/lib/python3.5/site-packages/ipykernel_launcher.py:5: SettingWithCopyWarning: \n",
      "A value is trying to be set on a copy of a slice from a DataFrame.\n",
      "Try using .loc[row_indexer,col_indexer] = value instead\n",
      "\n",
      "See the caveats in the documentation: http://pandas.pydata.org/pandas-docs/stable/indexing.html#indexing-view-versus-copy\n",
      "  \"\"\"\n"
     ]
    },
    {
     "data": {
      "text/plain": [
       "essay_id                                                      21633\n",
       "essay_set                                                         8\n",
       "essay             so one time my friends chad, justin and i ding...\n",
       "rater1_domain1                                                   30\n",
       "rater2_domain1                                                   30\n",
       "rater3_domain1                                                   50\n",
       "domain1_score                                                    60\n",
       "rater1_domain2                                                 None\n",
       "rater2_domain2                                                 None\n",
       "domain2_score                                                  None\n",
       "rater1_trait1                                                     6\n",
       "rater1_trait2                                                     6\n",
       "rater1_trait3                                                     6\n",
       "rater1_trait4                                                     6\n",
       "rater1_trait5                                                     6\n",
       "rater1_trait6                                                     6\n",
       "rater2_trait1                                                     6\n",
       "rater2_trait2                                                     6\n",
       "rater2_trait3                                                     6\n",
       "rater2_trait4                                                     6\n",
       "rater2_trait5                                                     6\n",
       "rater2_trait6                                                     6\n",
       "rater3_trait1                                                     6\n",
       "rater3_trait2                                                     6\n",
       "rater3_trait3                                                     6\n",
       "rater3_trait4                                                     6\n",
       "rater3_trait5                                                     5\n",
       "rater3_trait6                                                     5\n",
       "avg_score                                                         1\n",
       "dtype: object"
      ]
     },
     "execution_count": 88,
     "metadata": {},
     "output_type": "execute_result"
    },
    {
     "data": {
      "image/png": "[encoded data removed]",
      "text/plain": [
       "<Figure size 864x360 with 1 Axes>"
      ]
     },
     "metadata": {},
     "output_type": "display_data"
    }
   ],
   "source": [
    "set8 = train_data[train_data['essay_set'] == 8]\n",
    "\n",
    "rating_columns = set8.columns.values[3:].tolist()\n",
    "set8['avg_score']=set8[rating_columns].mean(axis=1)\n",
    "set8['avg_score']=((set8[rating_columns]-set8[rating_columns].min())/(set8[rating_columns].max()-set8[rating_columns].min())).mean(axis=1)\n",
    "set8[['essay_id', 'essay', 'avg_score']]\n",
    "set8.hist(column='avg_score', bins=24, ax= plt.figure(figsize = (12,5)).gca())\n",
    "set8.max()"
   ]
  }
 ],
 "metadata": {
  "kernelspec": {
   "display_name": "Python 3",
   "language": "python",
   "name": "python3"
  },
  "language_info": {
   "codemirror_mode": {
    "name": "ipython",
    "version": 3
   },
   "file_extension": ".py",
   "mimetype": "text/x-python",
   "name": "python",
   "nbconvert_exporter": "python",
   "pygments_lexer": "ipython3",
   "version": "3.5.2"
  }
 },
 "nbformat": 4,
 "nbformat_minor": 2
}
